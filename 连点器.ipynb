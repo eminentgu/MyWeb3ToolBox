{
 "cells": [
  {
   "cell_type": "code",
   "execution_count": 10,
   "id": "798e77d7",
   "metadata": {},
   "outputs": [
    {
     "name": "stdout",
     "output_type": "stream",
     "text": [
      "按w记录鼠标位置\n",
      "记录鼠标位置： 2463 627\n",
      "程序开始运行，按 'esc' 键停止...\n",
      "停止\n"
     ]
    }
   ],
   "source": [
    "import pyautogui\n",
    "import keyboard\n",
    "import time\n",
    "\n",
    "def main():\n",
    "    print(\"按w记录鼠标位置\")\n",
    "    i = 0\n",
    "    while True:\n",
    "        if keyboard.is_pressed('w'):\n",
    "            x,y = pyautogui.position()\n",
    "            print(\"记录鼠标位置：\",x,y)\n",
    "            break\n",
    "    print(\"程序开始运行，按 'esc' 键停止...\")\n",
    "    while True:\n",
    "        '''pyautogui.mouseDown(x,y)\n",
    "        time.sleep(0.01)\n",
    "        pyautogui.mouseUp(x,y)'''\n",
    "        pyautogui.click(x,y)\n",
    "        if keyboard.is_pressed('esc'):\n",
    "            print(\"停止\")\n",
    "            break\n",
    "if __name__ == \"__main__\":\n",
    "    main()\n"
   ]
  },
  {
   "cell_type": "code",
   "execution_count": null,
   "id": "8f76e809",
   "metadata": {},
   "outputs": [],
   "source": []
  },
  {
   "cell_type": "code",
   "execution_count": null,
   "id": "2a36b427",
   "metadata": {},
   "outputs": [],
   "source": []
  }
 ],
 "metadata": {
  "kernelspec": {
   "display_name": "Python 3 (ipykernel)",
   "language": "python",
   "name": "python3"
  },
  "language_info": {
   "codemirror_mode": {
    "name": "ipython",
    "version": 3
   },
   "file_extension": ".py",
   "mimetype": "text/x-python",
   "name": "python",
   "nbconvert_exporter": "python",
   "pygments_lexer": "ipython3",
   "version": "3.8.8"
  }
 },
 "nbformat": 4,
 "nbformat_minor": 5
}
